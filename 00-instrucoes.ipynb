{
  "nbformat": 4,
  "nbformat_minor": 0,
  "metadata": {
    "kernelspec": {
      "display_name": "Python 3",
      "language": "python",
      "name": "python3"
    },
    "language_info": {
      "codemirror_mode": {
        "name": "ipython",
        "version": 3
      },
      "file_extension": ".py",
      "mimetype": "text/x-python",
      "name": "python",
      "nbconvert_exporter": "python",
      "pygments_lexer": "ipython3",
      "version": "3.8.3"
    },
    "colab": {
      "name": "00-instrucoes.ipynb",
      "provenance": []
    }
  },
  "cells": [
    {
      "cell_type": "markdown",
      "metadata": {
        "id": "h7bUAJ_WBAX1",
        "colab_type": "text"
      },
      "source": [
        "## Instruções\n",
        "\n",
        "Vocês irão usar dois repositórios diferentes no projetinho:\n",
        "\n",
        "1. O repositório forkado do [original](https://github.com/gavieira/curso_programacao) - Cada um de vocês terá um desses em sua própria conta do github.\n",
        "2. [Este repositório](https://github.com/projetinho-bioinfo/curso_programacao), criado dentro do grupo [projetinho-bioinfo](https://github.com/projetinho-bioinfo) - Ele é quase idêntico ao original e é compartilhado com todo mundo, incluindo eu e Fabiana.\n",
        "\n",
        "Basicamente, vocês irão **treinar os exercícios/fazer anotações nos seus próprios repositórios**.\n",
        "\n",
        "Depois disso, o grupo inteiro irá **se organizar para responder as questões do repositório compartilhado com as respostas que julgarem mais adequadas**. Podem mudar as respostas quantas vezes quiserem sem medo, pois fica tudo arquivado no github e conseguimos visualizar tudo depois. Mesmo que não consigam resolver algum(ns) exercício(s), coloquem o que tiverem feito para que possamos ver as possíveis dúvidas e erros juntos na aula.\n",
        "\n",
        "É essencial que vcs tentem responder todas as questões antes das aulas, pois meio que só se aprende programação programando de fato. Batendo cabeça, errando muito e depois vendo o que fizemos de errado. Para além disso, responder as questões contam como participação e, consequentemente, fazem parte da nota final de vocês."
      ]
    }
  ]
}