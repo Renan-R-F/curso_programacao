{
  "nbformat": 4,
  "nbformat_minor": 0,
  "metadata": {
    "kernelspec": {
      "display_name": "Python 3",
      "language": "python",
      "name": "python3"
    },
    "language_info": {
      "codemirror_mode": {
        "name": "ipython",
        "version": 3
      },
      "file_extension": ".py",
      "mimetype": "text/x-python",
      "name": "python",
      "nbconvert_exporter": "python",
      "pygments_lexer": "ipython3",
      "version": "3.8.3"
    },
    "colab": {
      "name": "04-exercicio1.ipynb",
      "provenance": []
    }
  },
  "cells": [
    {
      "cell_type": "markdown",
      "metadata": {
        "id": "6XMru-0N4Wu9",
        "colab_type": "text"
      },
      "source": [
        "# Exercícios"
      ]
    },
    {
      "cell_type": "markdown",
      "metadata": {
        "id": "3AL16pTs4WvC",
        "colab_type": "text"
      },
      "source": [
        "## 1\n",
        "Escreva um programa que imprima \"Hello World!\" na tela ao ser executado."
      ]
    },
    {
      "cell_type": "code",
      "metadata": {
        "id": "oQum6EEZ4WvF",
        "colab_type": "code",
        "colab": {}
      },
      "source": [
        ""
      ],
      "execution_count": null,
      "outputs": []
    },
    {
      "cell_type": "markdown",
      "metadata": {
        "id": "-6E7JFXw4WvS",
        "colab_type": "text"
      },
      "source": [
        "## 2\n",
        "Escreva uma função que receba três números. Ela deve:\n",
        "- Somar o primeiro com o quadrado do segundo\n",
        "- Dividir essa soma pelo terceiro\n",
        "- Retornar o número resultante"
      ]
    },
    {
      "cell_type": "code",
      "metadata": {
        "id": "Tkyo54B24WvU",
        "colab_type": "code",
        "colab": {}
      },
      "source": [
        ""
      ],
      "execution_count": null,
      "outputs": []
    },
    {
      "cell_type": "markdown",
      "metadata": {
        "id": "PAXsufQH4Wve",
        "colab_type": "text"
      },
      "source": [
        "## 3\n",
        "Escreva as funções descritas abaixo:\n",
        "- Dica: Lembre que os valores que variam devem ser sempre passados para a função como argumentos."
      ]
    },
    {
      "cell_type": "markdown",
      "metadata": {
        "id": "nG9vywR74Wvg",
        "colab_type": "text"
      },
      "source": [
        "Função que retorne a área de um quadrilátero:"
      ]
    },
    {
      "cell_type": "code",
      "metadata": {
        "id": "yEICiUVE4Wvi",
        "colab_type": "code",
        "colab": {}
      },
      "source": [
        ""
      ],
      "execution_count": null,
      "outputs": []
    },
    {
      "cell_type": "markdown",
      "metadata": {
        "id": "5-Pe_sT14Wvr",
        "colab_type": "text"
      },
      "source": [
        "Função que retorne o volume de uma caixa:"
      ]
    },
    {
      "cell_type": "code",
      "metadata": {
        "id": "RsHEp2wF4Wvt",
        "colab_type": "code",
        "colab": {}
      },
      "source": [
        ""
      ],
      "execution_count": null,
      "outputs": []
    },
    {
      "cell_type": "markdown",
      "metadata": {
        "id": "_nymbAmW4Wv5",
        "colab_type": "text"
      },
      "source": [
        "Função que retorne o comprimento de uma circunferência:"
      ]
    },
    {
      "cell_type": "code",
      "metadata": {
        "id": "9DT_auNe4Wv7",
        "colab_type": "code",
        "colab": {}
      },
      "source": [
        ""
      ],
      "execution_count": null,
      "outputs": []
    },
    {
      "cell_type": "markdown",
      "metadata": {
        "id": "iHLeEZZo4WwE",
        "colab_type": "text"
      },
      "source": [
        "Função que retorne a área de um círculo:"
      ]
    },
    {
      "cell_type": "code",
      "metadata": {
        "id": "WNiAgE-34WwG",
        "colab_type": "code",
        "colab": {}
      },
      "source": [
        ""
      ],
      "execution_count": null,
      "outputs": []
    },
    {
      "cell_type": "markdown",
      "metadata": {
        "id": "zmLNV3ql4WwS",
        "colab_type": "text"
      },
      "source": [
        "Função que retorne o volume de uma esfera:"
      ]
    },
    {
      "cell_type": "code",
      "metadata": {
        "id": "jVXre2cZ4WwU",
        "colab_type": "code",
        "colab": {}
      },
      "source": [
        ""
      ],
      "execution_count": null,
      "outputs": []
    },
    {
      "cell_type": "markdown",
      "metadata": {
        "id": "9NjoJmdA4Wwc",
        "colab_type": "text"
      },
      "source": [
        "Função que calcule e retorne juros simples:"
      ]
    },
    {
      "cell_type": "code",
      "metadata": {
        "id": "hUrkp9Sx4Wwe",
        "colab_type": "code",
        "colab": {}
      },
      "source": [
        ""
      ],
      "execution_count": null,
      "outputs": []
    },
    {
      "cell_type": "markdown",
      "metadata": {
        "id": "AkKrrfpE4Wwo",
        "colab_type": "text"
      },
      "source": [
        "Função que calcule e retorne juros compostos:"
      ]
    },
    {
      "cell_type": "code",
      "metadata": {
        "id": "bqj3dSOP4Wwp",
        "colab_type": "code",
        "colab": {}
      },
      "source": [
        ""
      ],
      "execution_count": null,
      "outputs": []
    },
    {
      "cell_type": "markdown",
      "metadata": {
        "id": "ImIgSCB64Wwy",
        "colab_type": "text"
      },
      "source": [
        "Função que retorne o seno de um ângulo:"
      ]
    },
    {
      "cell_type": "code",
      "metadata": {
        "id": "LMnuQHUW4Ww2",
        "colab_type": "code",
        "colab": {}
      },
      "source": [
        ""
      ],
      "execution_count": null,
      "outputs": []
    },
    {
      "cell_type": "markdown",
      "metadata": {
        "id": "5dOsoOph4WxA",
        "colab_type": "text"
      },
      "source": [
        "Função que retorne o cosseno de um ângulo:"
      ]
    },
    {
      "cell_type": "code",
      "metadata": {
        "id": "4JQsPO1i4WxC",
        "colab_type": "code",
        "colab": {}
      },
      "source": [
        ""
      ],
      "execution_count": null,
      "outputs": []
    },
    {
      "cell_type": "markdown",
      "metadata": {
        "id": "mDBtv1vb4WxT",
        "colab_type": "text"
      },
      "source": [
        "Função que retorne a tangente de um ângulo:"
      ]
    },
    {
      "cell_type": "code",
      "metadata": {
        "id": "lMGUZY9s4WxV",
        "colab_type": "code",
        "colab": {}
      },
      "source": [
        ""
      ],
      "execution_count": null,
      "outputs": []
    },
    {
      "cell_type": "markdown",
      "metadata": {
        "id": "cwzq0YBP4Wxd",
        "colab_type": "text"
      },
      "source": [
        "Função que converta temperatura em Celsius para Fahrenheit:"
      ]
    },
    {
      "cell_type": "code",
      "metadata": {
        "id": "wXRwNXl_4Wxf",
        "colab_type": "code",
        "colab": {}
      },
      "source": [
        ""
      ],
      "execution_count": null,
      "outputs": []
    },
    {
      "cell_type": "markdown",
      "metadata": {
        "id": "HLb_3mZd4Wxo",
        "colab_type": "text"
      },
      "source": [
        "Esses são só alguns exemplos de cálculos que podem ser automatizados. Se tivermos um ou mais cálculos/procedimentos que iremos repetir com frequência, automatizar os mesmos pode economizar muito tempo (e paciência). Um excelente livro sobre isso é o [Automate the Boring Stuff with Python](https://automatetheboringstuff.com/) (em inglês)."
      ]
    },
    {
      "cell_type": "markdown",
      "metadata": {
        "id": "FplUeofn4b3g",
        "colab_type": "text"
      },
      "source": [
        "Nos vemos na próxima aula!"
      ]
    }
  ]
}